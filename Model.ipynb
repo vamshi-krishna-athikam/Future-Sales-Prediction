{
 "cells": [
  {
   "cell_type": "code",
   "execution_count": 2,
   "id": "1f16b105",
   "metadata": {},
   "outputs": [],
   "source": [
    "import gradio as gr\n",
    "import pandas as pd\n",
    "import pickle\n",
    "from datetime import date,timedelta,datetime"
   ]
  },
  {
   "cell_type": "code",
   "execution_count": 3,
   "id": "422541ef",
   "metadata": {},
   "outputs": [
    {
     "name": "stdout",
     "output_type": "stream",
     "text": [
      "Running on local URL:  http://127.0.0.1:7860/\n",
      "Running on public URL: https://48625.gradio.app\n",
      "\n",
      "This share link expires in 72 hours. For free permanent hosting, check out Spaces (https://huggingface.co/spaces)\n"
     ]
    },
    {
     "data": {
      "text/html": [
       "\n",
       "        <iframe\n",
       "            width=\"900\"\n",
       "            height=\"500\"\n",
       "            src=\"https://48625.gradio.app\"\n",
       "            frameborder=\"0\"\n",
       "            allowfullscreen\n",
       "        ></iframe>\n",
       "        "
      ],
      "text/plain": [
       "<IPython.lib.display.IFrame at 0x23a72e60cd0>"
      ]
     },
     "metadata": {},
     "output_type": "display_data"
    },
    {
     "data": {
      "text/plain": [
       "(<fastapi.applications.FastAPI at 0x23a712cc9a0>,\n",
       " 'http://127.0.0.1:7860/',\n",
       " 'https://48625.gradio.app')"
      ]
     },
     "execution_count": 3,
     "metadata": {},
     "output_type": "execute_result"
    }
   ],
   "source": [
    "def stay(Stay_In_Current_City_Years):\n",
    "    if Stay_In_Current_City_Years == '4+':\n",
    "        return 4\n",
    "    else:\n",
    "        return Stay_In_Current_City_Years\n",
    "def fn(inputs):\n",
    "    df=pd.read_csv(inputs.name)\n",
    "    df=df.iloc[:10,:]\n",
    "    df.drop([\"Product_Category_3\"],  axis=1, inplace=True)\n",
    "    df[\"Product_Category_2\"].fillna(df[\"Product_Category_2\"].median(), inplace = True)\n",
    "    gender_dict = {'F':0, 'M':1}\n",
    "    df[\"Gender\"] = df[\"Gender\"].apply(lambda x: gender_dict[x])\n",
    "    age_dict={'0-17':0, '18-25':1, '26-35':2, '36-45':3, '46-50':4, '51-55':5, '55+':6}\n",
    "    df['Age']=df['Age'].apply(lambda x:age_dict[x])\n",
    "    city={'A':0,'B':1,'C':2}\n",
    "    df['City_Category']=df['City_Category'].apply(lambda x: city[x])\n",
    "    df['Stay_In_Current_City_Years'] = df['Stay_In_Current_City_Years'].apply(stay).astype(int) \n",
    "    predicted= df[['User_ID','Product_ID']]\n",
    "    df=df.drop(['User_ID','Product_ID'],axis=1)\n",
    "    pickle_file = open('model.pkl', 'rb')     \n",
    "    model = pickle.load(pickle_file)\n",
    "    test_pred = model.predict(df)\n",
    "    predicted['Predicted_Purchase']=test_pred\n",
    "    filename1 = datetime.now().strftime(\"%Y_%m_%d\")\n",
    "    predicted.to_csv(filename1+\"_predict.csv\",index=False)\n",
    "    return predicted\n",
    "file=gr.inputs.File(file_count=\"single\", type=\"file\", label=None, optional=False)\n",
    "output=gr.outputs.Dataframe()\n",
    "gui = gr.Interface(fn=fn,\n",
    "                   inputs=file,\n",
    "                   outputs=[output],\n",
    "                  title=\"Future Sales Prediction Using \\n Machine Learning\",\n",
    "                  article=\"\")\n",
    "gui.launch(share=True)\n"
   ]
  },
  {
   "cell_type": "code",
   "execution_count": null,
   "id": "be43d492",
   "metadata": {},
   "outputs": [],
   "source": []
  }
 ],
 "metadata": {
  "kernelspec": {
   "display_name": "Python 3",
   "language": "python",
   "name": "python3"
  },
  "language_info": {
   "codemirror_mode": {
    "name": "ipython",
    "version": 3
   },
   "file_extension": ".py",
   "mimetype": "text/x-python",
   "name": "python",
   "nbconvert_exporter": "python",
   "pygments_lexer": "ipython3",
   "version": "3.8.8"
  }
 },
 "nbformat": 4,
 "nbformat_minor": 5
}
